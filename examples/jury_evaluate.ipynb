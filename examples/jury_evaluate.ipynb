{
 "cells": [
  {
   "cell_type": "code",
   "execution_count": 1,
   "metadata": {
    "ExecuteTime": {
     "end_time": "2021-08-02T22:49:55.831703Z",
     "start_time": "2021-08-02T22:49:55.817682Z"
    }
   },
   "outputs": [],
   "source": [
    "import json\n",
    "\n",
    "from jury import Jury"
   ]
  },
  {
   "cell_type": "code",
   "execution_count": 2,
   "metadata": {
    "ExecuteTime": {
     "end_time": "2021-08-02T22:49:26.488739Z",
     "start_time": "2021-08-02T22:49:26.473482Z"
    }
   },
   "outputs": [],
   "source": [
    "mt_predictions = [\n",
    "    [\"the cat is on the mat\", \"There is cat playing on the mat\"], \n",
    "    [\"Look! a wonderful day.\"]\n",
    "]\n",
    "mt_references = [\n",
    "    [\"the cat is playing on the mat.\", \"The cat plays on the mat.\"],\n",
    "    [\"Today is a wonderful day\", \"The weather outside is wonderful.\"],\n",
    "]\n",
    "\n",
    "MT_METRICS = [\n",
    "    \"bleu\", \n",
    "    \"meteor\",\n",
    "    \"rouge\", \n",
    "    \"sacrebleu\", \n",
    "#     \"bertscore\"\n",
    "]"
   ]
  },
  {
   "cell_type": "code",
   "execution_count": null,
   "metadata": {
    "ExecuteTime": {
     "end_time": "2021-08-02T22:51:23.394106Z",
     "start_time": "2021-08-02T22:50:52.018613Z"
    }
   },
   "outputs": [
    {
     "name": "stderr",
     "output_type": "stream",
     "text": [
      "100%|███████████████████████████████████████████| 2/2 [00:00<00:00, 2024.77it/s]\n",
      "  0%|                                                     | 0/2 [00:00<?, ?it/s]"
     ]
    }
   ],
   "source": [
    "mt_jury = Jury(metrics=MT_METRICS, run_concurrent=True)\n",
    "scores = mt_jury.evaluate(predictions=mt_predictions, references=mt_references)\n",
    "print(json.dumps(scores, indent=4))"
   ]
  },
  {
   "cell_type": "code",
   "execution_count": null,
   "metadata": {},
   "outputs": [],
   "source": [
    "from jury.metrics.squad import SQUAD\n",
    "\n",
    "class SQUAD_EM(SQUAD):\n",
    "    def __init__(self):\n",
    "        metric_name = \"squad\" \n",
    "        resulting_name = \"SQUAD-EM\"\n",
    "        super().__init__(metric_name=metric_name, resulting_name=resulting_name)\n",
    "        \n",
    "    def _postprocess(self, result, return_dict):\n",
    "        result = {self.metric_name: result[\"exact_match\"] / 100}\n",
    "        return result"
   ]
  },
  {
   "cell_type": "code",
   "execution_count": null,
   "metadata": {},
   "outputs": [],
   "source": [
    "qa_predictions = [\"1917\", \"Albert Einstein\", \"foo bar\"]\n",
    "qa_references = [\"1917\", \"Einstein\", \"foo bar foobar\"]\n",
    "\n",
    "QA_METRICS = [\n",
    "    SQUAD_EM(),\n",
    "    SQUAD()\n",
    "]"
   ]
  },
  {
   "cell_type": "code",
   "execution_count": null,
   "metadata": {},
   "outputs": [],
   "source": [
    "qa_jury = Jury(metrics=QA_METRICS, run_concurrent=False)\n",
    "scores = qa_jury.evaluate(predictions=qa_predictions, references=qa_references)\n",
    "print(json.dumps(scores, indent=4))"
   ]
  },
  {
   "cell_type": "code",
   "execution_count": null,
   "metadata": {},
   "outputs": [],
   "source": []
  }
 ],
 "metadata": {
  "kernelspec": {
   "display_name": "Python 3 (ipykernel)",
   "language": "python",
   "name": "python3"
  },
  "language_info": {
   "codemirror_mode": {
    "name": "ipython",
    "version": 3
   },
   "file_extension": ".py",
   "mimetype": "text/x-python",
   "name": "python",
   "nbconvert_exporter": "python",
   "pygments_lexer": "ipython3",
   "version": "3.8.5"
  },
  "toc": {
   "base_numbering": 1,
   "nav_menu": {},
   "number_sections": true,
   "sideBar": true,
   "skip_h1_title": false,
   "title_cell": "Table of Contents",
   "title_sidebar": "Contents",
   "toc_cell": false,
   "toc_position": {},
   "toc_section_display": true,
   "toc_window_display": false
  }
 },
 "nbformat": 4,
 "nbformat_minor": 1
}
