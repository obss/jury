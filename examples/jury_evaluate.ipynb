{
 "cells": [
  {
   "cell_type": "code",
   "execution_count": 1,
   "metadata": {
    "ExecuteTime": {
     "end_time": "2021-08-02T22:49:55.831703Z",
     "start_time": "2021-08-02T22:49:55.817682Z"
    }
   },
   "outputs": [],
   "source": [
    "import json\n",
    "\n",
    "from jury import Jury"
   ]
  },
  {
   "cell_type": "code",
   "execution_count": 8,
   "metadata": {
    "ExecuteTime": {
     "end_time": "2021-08-02T22:49:26.488739Z",
     "start_time": "2021-08-02T22:49:26.473482Z"
    }
   },
   "outputs": [],
   "source": [
    "mt_predictions = [\n",
    "    [\"the cat is on the mat\", \"There is cat playing on the mat\"], \n",
    "    [\"Look! a wonderful day.\"]\n",
    "]\n",
    "mt_references = [\n",
    "    [\"the cat is playing on the mat.\", \"The cat plays on the mat.\"],\n",
    "    [\"Today is a wonderful day\", \"The weather outside is wonderful.\"],\n",
    "]\n",
    "\n",
    "MT_METRICS = [\n",
    "    \"bleu\", \n",
    "    \"meteor\",\n",
    "    \"rouge\", \n",
    "    \"sacrebleu\", \n",
    "#     \"bertscore\"\n",
    "]"
   ]
  },
  {
   "cell_type": "code",
   "execution_count": 9,
   "metadata": {
    "ExecuteTime": {
     "end_time": "2021-08-02T22:51:23.394106Z",
     "start_time": "2021-08-02T22:50:52.018613Z"
    }
   },
   "outputs": [
    {
     "name": "stderr",
     "output_type": "stream",
     "text": [
      "100%|███████████████████████████████████████████| 2/2 [00:00<00:00, 2821.60it/s]\n",
      "  0%|                                                     | 0/2 [00:00<?, ?it/s][nltk_data] Downloading package wordnet to\n",
      "[nltk_data]     /home/devrimcavusoglu/nltk_data...\n",
      "[nltk_data]   Package wordnet is already up-to-date!\n",
      "[nltk_data] Downloading package wordnet to\n",
      "[nltk_data]     /home/devrimcavusoglu/nltk_data...\n",
      "[nltk_data]   Package wordnet is already up-to-date!\n",
      " 50%|██████████████████████▌                      | 1/2 [00:03<00:03,  3.63s/it][nltk_data] Downloading package wordnet to\n",
      "[nltk_data]     /home/devrimcavusoglu/nltk_data...\n",
      "[nltk_data]   Package wordnet is already up-to-date!\n",
      "100%|█████████████████████████████████████████████| 2/2 [00:03<00:00,  1.93s/it]\n",
      "100%|█████████████████████████████████████████████| 2/2 [00:03<00:00,  1.99s/it]\n",
      "100%|█████████████████████████████████████████████| 2/2 [00:04<00:00,  2.02s/it]\n",
      "100%|█████████████████████████████████████████████| 2/2 [00:05<00:00,  2.67s/it]\n"
     ]
    },
    {
     "name": "stdout",
     "output_type": "stream",
     "text": [
      "{\n",
      "    \"empty_predictions\": 0,\n",
      "    \"total_items\": 2,\n",
      "    \"Bleu\": 0.22749707020240187,\n",
      "    \"Meteor\": 0.5420511682934044,\n",
      "    \"rougeL\": 0.7948717948717947,\n",
      "    \"SacreBLEU\": 0.3898310279399514\n",
      "}\n"
     ]
    }
   ],
   "source": [
    "mt_jury = Jury(metrics=MT_METRICS, run_concurrent=True)\n",
    "scores = mt_jury.evaluate(predictions=mt_predictions, references=mt_references)\n",
    "print(json.dumps(scores, indent=4))"
   ]
  },
  {
   "cell_type": "code",
   "execution_count": 21,
   "metadata": {},
   "outputs": [],
   "source": [
    "from jury.metrics.squad import SQUAD"
   ]
  },
  {
   "cell_type": "code",
   "execution_count": 58,
   "metadata": {},
   "outputs": [],
   "source": [
    "class SQUAD_EM(SQUAD):\n",
    "    def __init__(self, resulting_name=None, params=None):\n",
    "        super().__init__()\n",
    "        self.metric_name = \"squad\"\n",
    "        self.resulting_name = \"SQUAD_EM\"\n",
    "        \n",
    "    def _postprocess(self, result, return_dict):\n",
    "        result = {self.metric_name: result[\"exact_match\"] / 100}\n",
    "        return result"
   ]
  },
  {
   "cell_type": "code",
   "execution_count": 59,
   "metadata": {},
   "outputs": [],
   "source": [
    "qa_predictions = [\"1917\", \"Albert Einstein\", \"abc\"]\n",
    "qa_references = [\"1917\", \"Einstein\", \"abc\"]\n",
    "\n",
    "QA_METRICS = [\n",
    "    SQUAD_EM(),\n",
    "    SQUAD()\n",
    "]"
   ]
  },
  {
   "cell_type": "code",
   "execution_count": 60,
   "metadata": {},
   "outputs": [
    {
     "name": "stderr",
     "output_type": "stream",
     "text": [
      "100%|██████████████████████████████████████████| 3/3 [00:00<00:00, 38245.93it/s]\n"
     ]
    },
    {
     "name": "stdout",
     "output_type": "stream",
     "text": [
      "{\n",
      "    \"empty_predictions\": 0,\n",
      "    \"total_items\": 3,\n",
      "    \"squad\": 0.0,\n",
      "    \"SQUAD\": 0.0\n",
      "}\n"
     ]
    }
   ],
   "source": [
    "qa_jury = Jury(metrics=QA_METRICS, run_concurrent=False)\n",
    "scores = qa_jury.evaluate(predictions=qa_predictions, references=qa_references)\n",
    "print(json.dumps(scores, indent=4))"
   ]
  },
  {
   "cell_type": "code",
   "execution_count": null,
   "metadata": {},
   "outputs": [],
   "source": []
  }
 ],
 "metadata": {
  "kernelspec": {
   "display_name": "Python 3 (ipykernel)",
   "language": "python",
   "name": "python3"
  },
  "language_info": {
   "codemirror_mode": {
    "name": "ipython",
    "version": 3
   },
   "file_extension": ".py",
   "mimetype": "text/x-python",
   "name": "python",
   "nbconvert_exporter": "python",
   "pygments_lexer": "ipython3",
   "version": "3.8.5"
  },
  "toc": {
   "base_numbering": 1,
   "nav_menu": {},
   "number_sections": true,
   "sideBar": true,
   "skip_h1_title": false,
   "title_cell": "Table of Contents",
   "title_sidebar": "Contents",
   "toc_cell": false,
   "toc_position": {},
   "toc_section_display": true,
   "toc_window_display": false
  }
 },
 "nbformat": 4,
 "nbformat_minor": 1
}
