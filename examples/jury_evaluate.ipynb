{
 "cells": [
  {
   "cell_type": "code",
   "execution_count": 13,
   "metadata": {
    "ExecuteTime": {
     "end_time": "2021-08-02T22:49:55.831703Z",
     "start_time": "2021-08-02T22:49:55.817682Z"
    }
   },
   "outputs": [],
   "source": [
    "import json\n",
    "\n",
    "from jury import Jury"
   ]
  },
  {
   "cell_type": "code",
   "execution_count": 14,
   "metadata": {
    "ExecuteTime": {
     "end_time": "2021-08-02T22:49:26.488739Z",
     "start_time": "2021-08-02T22:49:26.473482Z"
    }
   },
   "outputs": [],
   "source": [
    "mt_predictions = [\n",
    "    [\"the cat is on the mat\", \"There is cat playing on the mat\"], \n",
    "    [\"Look! a wonderful day.\"]\n",
    "]\n",
    "mt_references = [\n",
    "    [\"the cat is playing on the mat.\", \"The cat plays on the mat.\"],\n",
    "    [\"Today is a wonderful day\", \"The weather outside is wonderful.\"],\n",
    "]\n",
    "\n",
    "qa_predictions = [\"1917\", \"Albert Einstein\"]\n",
    "qa_references = [\"1917\", \"Einstein\"]\n",
    "\n",
    "MT_METRICS = [\"bleu_1\", \"meteor\", \"rouge\", \"sacrebleu\", \"bertscore\"]\n",
    "QA_METRICS = [\"squad\"]"
   ]
  },
  {
   "cell_type": "code",
   "execution_count": 15,
   "metadata": {
    "ExecuteTime": {
     "end_time": "2021-08-02T22:51:23.394106Z",
     "start_time": "2021-08-02T22:50:52.018613Z"
    }
   },
   "outputs": [
    {
     "name": "stderr",
     "output_type": "stream",
     "text": [
      "100%|██████████| 2/2 [00:00<00:00, 5011.12it/s]\n",
      "100%|██████████| 2/2 [00:00<00:00, 135.94it/s]\n",
      "[nltk_data] Downloading package wordnet to\n",
      "[nltk_data]     /home/devrimcavusoglu/nltk_data...\n",
      "[nltk_data]   Package wordnet is already up-to-date!\n",
      "100%|██████████| 2/2 [00:00<00:00, 279.46it/s]\n",
      "100%|██████████| 2/2 [00:00<00:00, 19.44it/s]\n",
      "100%|██████████| 2/2 [00:00<00:00, 159.17it/s]\n",
      "100%|██████████| 2/2 [00:14<00:00,  7.19s/it]"
     ]
    },
    {
     "name": "stdout",
     "output_type": "stream",
     "text": [
      "{\n",
      "    \"empty_predictions\": 0,\n",
      "    \"total_items\": 2,\n",
      "    \"bleu_1\": 0.7920502936517768,\n",
      "    \"meteor\": 0.5420511682934044,\n",
      "    \"rouge\": 0.875,\n",
      "    \"sacrebleu\": 0.38983102793995145,\n",
      "    \"bertscore\": 0.9424465894699097\n",
      "}\n"
     ]
    },
    {
     "name": "stderr",
     "output_type": "stream",
     "text": [
      "\n"
     ]
    }
   ],
   "source": [
    "mt_jury = Jury(metrics=MT_METRICS, run_concurrent=False)\n",
    "scores = mt_jury.evaluate(predictions=mt_predictions, references=mt_references)\n",
    "print(json.dumps(scores, indent=4))"
   ]
  },
  {
   "cell_type": "code",
   "execution_count": null,
   "metadata": {},
   "outputs": [],
   "source": []
  }
 ],
 "metadata": {
  "kernelspec": {
   "display_name": "Python 3",
   "language": "python",
   "name": "python3"
  },
  "language_info": {
   "codemirror_mode": {
    "name": "ipython",
    "version": 3
   },
   "file_extension": ".py",
   "mimetype": "text/x-python",
   "name": "python",
   "nbconvert_exporter": "python",
   "pygments_lexer": "ipython3",
   "version": "3.8.5"
  },
  "toc": {
   "base_numbering": 1,
   "nav_menu": {},
   "number_sections": true,
   "sideBar": true,
   "skip_h1_title": false,
   "title_cell": "Table of Contents",
   "title_sidebar": "Contents",
   "toc_cell": false,
   "toc_position": {},
   "toc_section_display": true,
   "toc_window_display": false
  }
 },
 "nbformat": 4,
 "nbformat_minor": 1
}
